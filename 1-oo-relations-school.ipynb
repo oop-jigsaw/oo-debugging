{
 "cells": [
  {
   "cell_type": "markdown",
   "id": "636a302f-e090-4884-9495-002e149b27d9",
   "metadata": {},
   "source": [
    "# Object Debugging"
   ]
  },
  {
   "cell_type": "markdown",
   "id": "5acffef9-3f79-4d9b-bc45-ab0312d4639e",
   "metadata": {},
   "source": [
    "### Introduction"
   ]
  },
  {
   "cell_type": "markdown",
   "id": "23af6d5b-4365-4abd-93c2-ecc5861e067a",
   "metadata": {},
   "source": [
    "In this lesson, we'll practice understanding tests and debugging our codebase.  Let's get started."
   ]
  },
  {
   "cell_type": "markdown",
   "id": "41e822f2-27c7-41ff-b24c-05263ecfe110",
   "metadata": {},
   "source": [
    "### Getting setup"
   ]
  },
  {
   "cell_type": "markdown",
   "id": "09bc0dd9-a154-4eec-a98a-1ef560b773a4",
   "metadata": {},
   "source": [
    "First cd into the `project` folder.  And then from there run pytest."
   ]
  },
  {
   "cell_type": "markdown",
   "id": "dc2f4f7b",
   "metadata": {},
   "source": [
    "### Running our tests"
   ]
  },
  {
   "cell_type": "markdown",
   "id": "ccb29596",
   "metadata": {},
   "source": [
    "Let's start with the `test_school.py` file.  We can run the test by running `pytest tests/test_school.py`.  And if we want our tests to stop running on the first failure, we can do so with the following:\n",
    "\n",
    "```python\n",
    "pytest -x tests/test_school.py\n",
    "```"
   ]
  },
  {
   "cell_type": "markdown",
   "id": "31b0202d",
   "metadata": {},
   "source": [
    "Ok, let's get started."
   ]
  },
  {
   "cell_type": "markdown",
   "id": "3fa53704",
   "metadata": {},
   "source": [
    "* For `test_school.test_initializes_with_name` the **code** is off.  Go fix it.\n",
    "\n",
    "* For `test_school.test_initializing_a_school_increments_an_underscore_id` the **test** is off.  Go fix it.\n",
    "\n",
    "* For `test_school.test_initializing_a_school_adds_a_new_school_to_the_store` the **test** is off.  So please go fix it.\n",
    "\n",
    "* For `test_school.test_students_method_returns_all_associated_students` the **code** is off.  So please go fix it.\n",
    "\n",
    "* For `test_school.test_teachers_method_returns_all_associated_teachers` the **test** is off.  Please fix it *so that each teacher is properly associated with a school*. "
   ]
  },
  {
   "cell_type": "markdown",
   "id": "14f17b10-b649-40be-92fa-9af6f6269106",
   "metadata": {},
   "source": [
    "### Working with Student"
   ]
  },
  {
   "cell_type": "markdown",
   "id": "acf487d6",
   "metadata": {},
   "source": [
    "* For `test_student.test_id_returns_id`, try to find the bug in the code resulting in the incorrect id number.  Remember to put a breakpoint to determine where the bug is occurring."
   ]
  }
 ],
 "metadata": {
  "kernelspec": {
   "display_name": "Python 3.9.10 64-bit",
   "language": "python",
   "name": "python3"
  },
  "language_info": {
   "codemirror_mode": {
    "name": "ipython",
    "version": 3
   },
   "file_extension": ".py",
   "mimetype": "text/x-python",
   "name": "python",
   "nbconvert_exporter": "python",
   "pygments_lexer": "ipython3",
   "version": "3.9.10"
  },
  "vscode": {
   "interpreter": {
    "hash": "aee8b7b246df8f9039afb4144a1f6fd8d2ca17a180786b69acc140d282b71a49"
   }
  }
 },
 "nbformat": 4,
 "nbformat_minor": 5
}
